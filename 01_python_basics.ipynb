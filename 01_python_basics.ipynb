{
 "cells": [
  {
   "cell_type": "markdown",
   "metadata": {},
   "source": [
    "## Simple things in python\n",
    "This notebook demonstrates some simple things in python.\n",
    "I highly recommend W3Schools for learning the basics of python.\n",
    "https://www.w3schools.com/python/"
   ]
  },
  {
   "cell_type": "markdown",
   "metadata": {},
   "source": [
    "#### Print"
   ]
  },
  {
   "cell_type": "code",
   "execution_count": 26,
   "metadata": {},
   "outputs": [
    {
     "name": "stdout",
     "output_type": "stream",
     "text": [
      "Hello world\n",
      "Print() is a function that displays the text in the console\n"
     ]
    }
   ],
   "source": [
    "print(\"Hello world\")\n",
    "print(\"Print() is a function that displays the text in the console\")\n",
    "\n",
    "# display(\"hello world\")"
   ]
  },
  {
   "cell_type": "markdown",
   "metadata": {},
   "source": [
    "### Variables\n",
    "\n",
    "Variables store values in memory. They are basically keywords that store information.\n",
    "\n",
    "A variable is created the moment you first assign a value to it with the assignment operator `=`. \n",
    "\n",
    "There are many datatypes, including ints, floats, strings, lists. Neuroimaging data has its own datatypes, such as nifti images."
   ]
  },
  {
   "cell_type": "code",
   "execution_count": 29,
   "metadata": {},
   "outputs": [
    {
     "name": "stdout",
     "output_type": "stream",
     "text": [
      "Hello world\n"
     ]
    }
   ],
   "source": [
    "my_string = \"Hello world\"\n",
    "print(my_string)\n",
    "\n",
    "# y = 10\n",
    "# print(y)"
   ]
  },
  {
   "cell_type": "markdown",
   "metadata": {},
   "source": [
    "#### Operators\n",
    "\n",
    "Operators are used to perform operations on variables and values.\n",
    "Basic operators are:\n",
    "- Arithmetic operators\n",
    "    - Addition +\n",
    "    - Subtraction -\n",
    "    - Multiplication *\n",
    "    - Many others\n",
    "- Logical operators: Return True or False\n",
    "    - Equality: ==\n",
    "    - Inequality: !=\n",
    "    - Greater than: >\n",
    "    - and/not operators"
   ]
  },
  {
   "cell_type": "code",
   "execution_count": 32,
   "metadata": {},
   "outputs": [],
   "source": [
    "# x = 2 + 2\n",
    "# print(x)\n",
    "# # print(\"Python can also do math!\")\n",
    "# y = 5 - 17\n",
    "# print(y)\n",
    "\n",
    "# z = 2 + 2 == 3\n",
    "# print(z)\n",
    "\n",
    "# z = 2 + 2 == 4\n",
    "# print(z)"
   ]
  },
  {
   "cell_type": "markdown",
   "metadata": {},
   "source": [
    "#### Loops\n",
    "\n",
    "Loops are really useful to do repetitive tasks without writing the same code over and over again. \n",
    "\n",
    "There are a bunch of ways to use loops in python, but the most common is the for loop."
   ]
  },
  {
   "cell_type": "code",
   "execution_count": 33,
   "metadata": {},
   "outputs": [
    {
     "name": "stdout",
     "output_type": "stream",
     "text": [
      "0\n",
      "1\n",
      "2\n",
      "3\n",
      "4\n",
      "5\n",
      "6\n",
      "7\n",
      "8\n",
      "9\n"
     ]
    }
   ],
   "source": [
    "n_iterations = 10\n",
    "\n",
    "for i in range(10):\n",
    "    print(i)"
   ]
  },
  {
   "cell_type": "markdown",
   "metadata": {},
   "source": [
    "#### Functions\n",
    "Functions are little self-contained programs that perform a specific task, which can be called from other parts of your program. \n",
    "\n",
    "Functions accept inputs, chew on them for a bit, and spit out whatever you \"return\"."
   ]
  },
  {
   "cell_type": "code",
   "execution_count": 35,
   "metadata": {},
   "outputs": [
    {
     "name": "stdout",
     "output_type": "stream",
     "text": [
      "\n",
      " Let's call the function to see what happens \n",
      "\n",
      "Hello!\n",
      "Hello!\n",
      "Hello!\n",
      "Hello!\n",
      "Hello!\n",
      "Hello!\n"
     ]
    }
   ],
   "source": [
    "def say_hello():\n",
    "    print(\"Hello!\")\n",
    "\n",
    "print(\"\\n Let's call the function to see what happens \\n\")\n",
    "say_hello()\n",
    "\n",
    "# print(\"\\n Let's call the function multiple times \\n\")\n",
    "\n",
    "# number_of_times_to_say_hello = 4\n",
    "\n",
    "# for i in range(number_of_times_to_say_hello):\n",
    "#     say_hello()\n",
    "\n",
    "# print(\"\\n Let's make another function that calls the say_hello function multiple times \\n\")\n",
    "\n",
    "def say_hello_n_times(n):\n",
    "    for i in range(n):\n",
    "        say_hello()\n",
    "\n",
    "say_hello_n_times(5)"
   ]
  }
 ],
 "metadata": {
  "kernelspec": {
   "display_name": "django_env",
   "language": "python",
   "name": "python3"
  },
  "language_info": {
   "codemirror_mode": {
    "name": "ipython",
    "version": 3
   },
   "file_extension": ".py",
   "mimetype": "text/x-python",
   "name": "python",
   "nbconvert_exporter": "python",
   "pygments_lexer": "ipython3",
   "version": "3.12.4"
  }
 },
 "nbformat": 4,
 "nbformat_minor": 2
}
