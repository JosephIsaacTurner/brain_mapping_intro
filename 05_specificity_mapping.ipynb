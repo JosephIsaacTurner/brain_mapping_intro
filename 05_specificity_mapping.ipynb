{
 "cells": [
  {
   "cell_type": "markdown",
   "metadata": {},
   "source": [
    "## Specificity Mapping\n",
    "\n",
    "This is a bit more complex than sensitivity mapping.\n",
    "\n",
    "It requires a higher understanding of statistics. I don't want to go into too much depth, so I'll simplify things a lot.\n",
    "\n",
    "Regression: A way of measuring the strength of the relationship between variables.\n",
    "T-test: Is the average value"
   ]
  },
  {
   "cell_type": "markdown",
   "metadata": {},
   "source": [
    "### Statistical function I wrote myself"
   ]
  },
  {
   "cell_type": "code",
   "execution_count": 21,
   "metadata": {},
   "outputs": [],
   "source": [
    "import numpy as np\n",
    "from numpy.linalg import pinv\n",
    "\n",
    "def welchs_t_glm(data, design_matrix, contrast_matrix):\n",
    "    # Solve the GLM\n",
    "    XTX = design_matrix.T @ design_matrix\n",
    "    XTX_inv_pseudo = pinv(XTX)  # Pseudo-inverse\n",
    "    betas = XTX_inv_pseudo @ design_matrix.T @ data  # Beta coefficients\n",
    "\n",
    "    # Calculate residuals\n",
    "    model_predictions = design_matrix @ betas\n",
    "    residuals = data - model_predictions\n",
    "\n",
    "    # Contrast values\n",
    "    contrast_values = contrast_matrix @ betas\n",
    "\n",
    "    # Variance of the contrast estimate\n",
    "    var_contrast = contrast_matrix @ XTX_inv_pseudo @ contrast_matrix.T\n",
    "\n",
    "    # Degrees of freedom using Welch–Satterthwaite equation\n",
    "    mse = np.sum(residuals**2, axis=0) / (data.shape[0] - design_matrix.shape[1])\n",
    "    se_contrast = np.sqrt(var_contrast * mse)\n",
    "    \n",
    "    # Calculate t-values\n",
    "    t_values = contrast_values / se_contrast\n",
    "\n",
    "    return t_values.flatten()\n"
   ]
  },
  {
   "cell_type": "code",
   "execution_count": 23,
   "metadata": {},
   "outputs": [
    {
     "name": "stderr",
     "output_type": "stream",
     "text": [
      "/var/folders/s3/ntpkdn8j7jd5jksmwwldz11h0000gn/T/ipykernel_50641/3640074853.py:25: RuntimeWarning: invalid value encountered in divide\n",
      "  t_values = contrast_values / se_contrast\n"
     ]
    }
   ],
   "source": [
    "import pandas as pd\n",
    "from nilearn.maskers import NiftiMasker\n",
    "\n",
    "df_cases = pd.read_csv('example_data/example_dataset.csv')\n",
    "df_controls = pd.read_csv('example_data/example_control_dataset.csv')\n",
    "df_together = pd.concat([df_cases, df_controls], axis=0)\n",
    "df_together['dataset'] = np.hstack([np.ones(df_cases.shape[0]), np.zeros(df_controls.shape[0])])\n",
    "df_together['intercept'] = 1\n",
    "\n",
    "masker = NiftiMasker(mask_img='example_data/MNI152_T1_2mm_brain_mask.nii.gz').fit()\n",
    "\n",
    "data = masker.transform(df_together['t'])\n",
    "design_matrix = df_together[['dataset', 'intercept']].values\n",
    "contrast_matrix = np.array([1, 0])\n",
    "\n",
    "t_values = welchs_t_glm(data, design_matrix, contrast_matrix)\n",
    "t_values_img = masker.inverse_transform(t_values)\n",
    "t_values_img.to_filename('example_data/t_values.nii.gz')\n"
   ]
  }
 ],
 "metadata": {
  "kernelspec": {
   "display_name": "django_env",
   "language": "python",
   "name": "python3"
  },
  "language_info": {
   "codemirror_mode": {
    "name": "ipython",
    "version": 3
   },
   "file_extension": ".py",
   "mimetype": "text/x-python",
   "name": "python",
   "nbconvert_exporter": "python",
   "pygments_lexer": "ipython3",
   "version": "3.12.4"
  }
 },
 "nbformat": 4,
 "nbformat_minor": 2
}
