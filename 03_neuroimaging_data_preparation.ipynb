{
 "cells": [
  {
   "cell_type": "markdown",
   "metadata": {},
   "source": [
    "## Neuroimaging Data Preparation for Analysis\n",
    "\n",
    "### Important Concepts\n",
    "- **Templates like MNI152 let us align voxelwise data across subjects.**\n",
    "\n",
    "- **We can look at the same voxel in the same anatomical spot for many subjects.**\n",
    "\n",
    "- **Neuroimaging data is not like tabular data, but we want it to behave tabular data.**"
   ]
  },
  {
   "cell_type": "code",
   "execution_count": 5,
   "metadata": {},
   "outputs": [],
   "source": [
    "import os\n",
    "import pandas as pd\n",
    "\n",
    "lesion_directory = 'example_data/amnesia_lesions'\n",
    "lesion_networks_directory = 'example_data/amnesia_networks'\n",
    "\n",
    "lesions = [os.path.join(lesion_directory, lesion) for lesion in os.listdir(lesion_directory)]\n",
    "networks = [os.path.join(lesion_networks_directory, network) for network in os.listdir(lesion_networks_directory)]\n",
    "\n",
    "df = pd.DataFrame({'roi_2m': lesions, 't': networks})\n",
    "df.to_csv('example_data/example_dataset.csv', index=False)"
   ]
  },
  {
   "cell_type": "markdown",
   "metadata": {},
   "source": [
    "### Pandas: A library for spreadsheet-like tabular data\n",
    "Dataframes are a new datatype that represent tabular data. They are like a spreadsheet, but in Python."
   ]
  },
  {
   "cell_type": "code",
   "execution_count": 25,
   "metadata": {},
   "outputs": [
    {
     "data": {
      "text/html": [
       "<div>\n",
       "<style scoped>\n",
       "    .dataframe tbody tr th:only-of-type {\n",
       "        vertical-align: middle;\n",
       "    }\n",
       "\n",
       "    .dataframe tbody tr th {\n",
       "        vertical-align: top;\n",
       "    }\n",
       "\n",
       "    .dataframe thead th {\n",
       "        text-align: right;\n",
       "    }\n",
       "</style>\n",
       "<table border=\"1\" class=\"dataframe\">\n",
       "  <thead>\n",
       "    <tr style=\"text-align: right;\">\n",
       "      <th></th>\n",
       "      <th>roi_2mm</th>\n",
       "      <th>t</th>\n",
       "    </tr>\n",
       "  </thead>\n",
       "  <tbody>\n",
       "    <tr>\n",
       "      <th>0</th>\n",
       "      <td>example_data/amnesia_lesions/sub-26_file-16_ro...</td>\n",
       "      <td>example_data/amnesia_networks/sub-25_file-14_t...</td>\n",
       "    </tr>\n",
       "    <tr>\n",
       "      <th>1</th>\n",
       "      <td>example_data/amnesia_lesions/sub-27_file-18_ro...</td>\n",
       "      <td>example_data/amnesia_networks/sub-20_file-1_to...</td>\n",
       "    </tr>\n",
       "    <tr>\n",
       "      <th>2</th>\n",
       "      <td>example_data/amnesia_lesions/sub-29_file-22_ro...</td>\n",
       "      <td>example_data/amnesia_networks/sub-21_file-6_to...</td>\n",
       "    </tr>\n",
       "    <tr>\n",
       "      <th>3</th>\n",
       "      <td>example_data/amnesia_lesions/sub-22_file-8_roi...</td>\n",
       "      <td>example_data/amnesia_networks/sub-22_file-8_to...</td>\n",
       "    </tr>\n",
       "    <tr>\n",
       "      <th>4</th>\n",
       "      <td>example_data/amnesia_lesions/sub-24_file-12_ro...</td>\n",
       "      <td>example_data/amnesia_networks/sub-26_file-16_t...</td>\n",
       "    </tr>\n",
       "    <tr>\n",
       "      <th>5</th>\n",
       "      <td>example_data/amnesia_lesions/sub-25_file-14_ro...</td>\n",
       "      <td>example_data/amnesia_networks/sub-28_file-20_t...</td>\n",
       "    </tr>\n",
       "    <tr>\n",
       "      <th>6</th>\n",
       "      <td>example_data/amnesia_lesions/sub-20_file-1_roi...</td>\n",
       "      <td>example_data/amnesia_networks/sub-27_file-18_t...</td>\n",
       "    </tr>\n",
       "    <tr>\n",
       "      <th>7</th>\n",
       "      <td>example_data/amnesia_lesions/sub-28_file-20_ro...</td>\n",
       "      <td>example_data/amnesia_networks/sub-29_file-22_t...</td>\n",
       "    </tr>\n",
       "    <tr>\n",
       "      <th>8</th>\n",
       "      <td>example_data/amnesia_lesions/sub-23_file-10_ro...</td>\n",
       "      <td>example_data/amnesia_networks/sub-24_file-12_t...</td>\n",
       "    </tr>\n",
       "    <tr>\n",
       "      <th>9</th>\n",
       "      <td>example_data/amnesia_lesions/sub-21_file-6_roi...</td>\n",
       "      <td>example_data/amnesia_networks/sub-23_file-10_t...</td>\n",
       "    </tr>\n",
       "  </tbody>\n",
       "</table>\n",
       "</div>"
      ],
      "text/plain": [
       "                                             roi_2mm  \\\n",
       "0  example_data/amnesia_lesions/sub-26_file-16_ro...   \n",
       "1  example_data/amnesia_lesions/sub-27_file-18_ro...   \n",
       "2  example_data/amnesia_lesions/sub-29_file-22_ro...   \n",
       "3  example_data/amnesia_lesions/sub-22_file-8_roi...   \n",
       "4  example_data/amnesia_lesions/sub-24_file-12_ro...   \n",
       "5  example_data/amnesia_lesions/sub-25_file-14_ro...   \n",
       "6  example_data/amnesia_lesions/sub-20_file-1_roi...   \n",
       "7  example_data/amnesia_lesions/sub-28_file-20_ro...   \n",
       "8  example_data/amnesia_lesions/sub-23_file-10_ro...   \n",
       "9  example_data/amnesia_lesions/sub-21_file-6_roi...   \n",
       "\n",
       "                                                   t  \n",
       "0  example_data/amnesia_networks/sub-25_file-14_t...  \n",
       "1  example_data/amnesia_networks/sub-20_file-1_to...  \n",
       "2  example_data/amnesia_networks/sub-21_file-6_to...  \n",
       "3  example_data/amnesia_networks/sub-22_file-8_to...  \n",
       "4  example_data/amnesia_networks/sub-26_file-16_t...  \n",
       "5  example_data/amnesia_networks/sub-28_file-20_t...  \n",
       "6  example_data/amnesia_networks/sub-27_file-18_t...  \n",
       "7  example_data/amnesia_networks/sub-29_file-22_t...  \n",
       "8  example_data/amnesia_networks/sub-24_file-12_t...  \n",
       "9  example_data/amnesia_networks/sub-23_file-10_t...  "
      ]
     },
     "execution_count": 25,
     "metadata": {},
     "output_type": "execute_result"
    }
   ],
   "source": [
    "import pandas as pd\n",
    "\n",
    "df = pd.read_csv('example_data/example_dataset.csv')\n",
    "df"
   ]
  },
  {
   "cell_type": "markdown",
   "metadata": {},
   "source": [
    "### Nilearn: Another library for neuroimaging data\n",
    "Good for loading, cleaning, and reshaping neuroimaging data to be more like tabular data.\n",
    "\n",
    "The \"NiftiMasker\" class is like a swiss army knife for resampling, flattening, and otherwise preparing neuroimaging data for analysis."
   ]
  },
  {
   "cell_type": "code",
   "execution_count": 31,
   "metadata": {},
   "outputs": [],
   "source": [
    "from nilearn.maskers import NiftiMasker\n",
    "\n",
    "masker = NiftiMasker(mask_img='example_data/MNI152_T1_2mm_brain_mask.nii.gz').fit()\n",
    "stacked_lesions = masker.transform(df['roi_2mm'])\n",
    "# stacked_lesions\n",
    "# stacked_lesions.shape\n",
    "stacked_lesions_summed = stacked_lesions.sum(axis=0)\n",
    "\n",
    "new_img = masker.inverse_transform(stacked_lesions_summed)\n",
    "new_img.to_filename('example_data/summed_lesions.nii.gz')"
   ]
  }
 ],
 "metadata": {
  "kernelspec": {
   "display_name": "django_env",
   "language": "python",
   "name": "python3"
  },
  "language_info": {
   "codemirror_mode": {
    "name": "ipython",
    "version": 3
   },
   "file_extension": ".py",
   "mimetype": "text/x-python",
   "name": "python",
   "nbconvert_exporter": "python",
   "pygments_lexer": "ipython3",
   "version": "3.12.4"
  }
 },
 "nbformat": 4,
 "nbformat_minor": 2
}
