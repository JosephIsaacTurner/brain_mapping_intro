{
 "cells": [
  {
   "cell_type": "markdown",
   "metadata": {},
   "source": [
    "## Sensitivity Mapping\n",
    "\n",
    "### Key Idea: Where are lesions that cause X connected to?\n",
    "\n",
    "### Mechanics:\n",
    "- 1. Stack all the lesion networks for a given symptom type\n",
    "- 2. Apply a threshold to the stack of lesion networks to binarize them at a given level\n",
    "- 3. At **each voxel**, calculate the percentage of lesion networks that survived the threshold\n",
    "- 4. Store these percentage values themselves as a 3d image."
   ]
  },
  {
   "cell_type": "code",
   "execution_count": 9,
   "metadata": {},
   "outputs": [],
   "source": [
    "import numpy as np\n",
    "from nilearn.maskers import NiftiMasker\n",
    "import pandas as pd\n",
    "\n",
    "# This function is just numpy!\n",
    "\n",
    "def calculate_sensitivity(data, threshold, percent=False, two_tailed=True):\n",
    "    \"\"\"\n",
    "    The goal of this function is to take in a 2d array of data (n_subject, n_image_points)\n",
    "    and return a 1d array of the percentage of subjects that have a value greater than the threshold.\n",
    "    We do this in a two-sided fashion. If a subject has a value greater than the threshold, we assign it a 1. \n",
    "    If a subject has a value less than the negative threshold, we assign it a -1.\n",
    "    We then take the mean of the positive and negative values across subjects.\n",
    "    Finally, we take the maximum of the absolute value of the positive and negative means to determine which value to keep at each point.\n",
    "    \"\"\"\n",
    "\n",
    "    # Threshold/binarize the stack of lesion networks _above_ the threshold\n",
    "    data_positive = np.where(data > threshold, 1, 0)\n",
    "\n",
    "    # Threshold/binarize the stack of lesion networks _below_ the negative threshold\n",
    "    data_negative = np.where(data < - threshold, -1, 0)\n",
    "\n",
    "    # Calculate the proportion of subjects that have a value greater than the threshold\n",
    "    data_positive_mean = np.mean(data_positive, axis=0)\n",
    "\n",
    "    # Calculate the proportion of subjects that have a value less than the negative threshold\n",
    "    data_negative_mean = np.mean(data_negative, axis=0)\n",
    "\n",
    "    if two_tailed:\n",
    "        data_overlap = np.where(np.abs(data_positive_mean) > np.abs(data_negative_mean), data_positive_mean, data_negative_mean)\n",
    "    else:\n",
    "        data_overlap = data_positive_mean\n",
    "    if percent:\n",
    "        data_overlap = data_overlap * 100\n",
    "    return np.squeeze(data_overlap)\n",
    "\n",
    "\n",
    "df = pd.read_csv('example_data/example_dataset.csv')\n",
    "masker = NiftiMasker(mask_img='example_data/MNI152_T1_2mm_brain_mask.nii.gz').fit()\n",
    "\n",
    "data = masker.transform(df['t'])\n",
    "\n",
    "sensitivity = calculate_sensitivity(data, 5, percent=True, two_tailed=True)\n",
    "\n",
    "sensitivity_img = masker.inverse_transform(sensitivity)\n",
    "sensitivity_img.to_filename('example_data/sensitivity_example.nii.gz')"
   ]
  }
 ],
 "metadata": {
  "kernelspec": {
   "display_name": "django_env",
   "language": "python",
   "name": "python3"
  },
  "language_info": {
   "codemirror_mode": {
    "name": "ipython",
    "version": 3
   },
   "file_extension": ".py",
   "mimetype": "text/x-python",
   "name": "python",
   "nbconvert_exporter": "python",
   "pygments_lexer": "ipython3",
   "version": "3.12.4"
  }
 },
 "nbformat": 4,
 "nbformat_minor": 2
}
